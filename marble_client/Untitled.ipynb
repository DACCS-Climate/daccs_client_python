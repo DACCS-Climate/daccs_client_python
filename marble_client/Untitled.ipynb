{
 "cells": [
  {
   "cell_type": "code",
   "execution_count": 1,
   "id": "2eee852c-3f25-4a6f-bac3-37e61598647f",
   "metadata": {},
   "outputs": [],
   "source": [
    "from client import DACCSClient"
   ]
  },
  {
   "cell_type": "code",
   "execution_count": 2,
   "id": "3beec54d-38fe-401f-98d8-473e29f1d11a",
   "metadata": {},
   "outputs": [],
   "source": [
    "d = DACCSClient()"
   ]
  },
  {
   "cell_type": "code",
   "execution_count": 3,
   "id": "f1ba283a-5104-483f-beab-91aee09944ea",
   "metadata": {},
   "outputs": [
    {
     "data": {
      "text/plain": [
       "{'UofT': <daccs_client.node.DACCSNode at 0x103f209d0>,\n",
       " 'PAVICS': <daccs_client.node.DACCSNode at 0x103f2f3d0>,\n",
       " 'Hirondelle': <daccs_client.node.DACCSNode at 0x103f2f690>}"
      ]
     },
     "execution_count": 3,
     "metadata": {},
     "output_type": "execute_result"
    }
   ],
   "source": [
    "d.nodes"
   ]
  },
  {
   "cell_type": "code",
   "execution_count": 4,
   "id": "ff60534a-a5ec-48cd-8f46-c5cb053b1401",
   "metadata": {},
   "outputs": [],
   "source": [
    "mynode = d['UofT']"
   ]
  },
  {
   "cell_type": "code",
   "execution_count": 5,
   "id": "1edbc2d4-47b3-4492-adc0-30b83ce4d180",
   "metadata": {},
   "outputs": [
    {
     "data": {
      "text/plain": [
       "<daccs_client.node.DACCSNode at 0x103f209d0>"
      ]
     },
     "execution_count": 5,
     "metadata": {},
     "output_type": "execute_result"
    }
   ],
   "source": [
    "mynode"
   ]
  },
  {
   "cell_type": "code",
   "execution_count": 6,
   "id": "f4779a0a-ada8-4cb1-8649-f3fd4bcf9a6a",
   "metadata": {},
   "outputs": [
    {
     "data": {
      "text/plain": [
       "True"
      ]
     },
     "execution_count": 6,
     "metadata": {},
     "output_type": "execute_result"
    }
   ],
   "source": [
    "mynode.is_online()"
   ]
  },
  {
   "cell_type": "code",
   "execution_count": 13,
   "id": "13f9e85a-8d9a-41b3-a835-18b5ed7dec9b",
   "metadata": {},
   "outputs": [
    {
     "data": {
      "text/plain": [
       "'https://daccs.cs.toronto.edu'"
      ]
     },
     "execution_count": 13,
     "metadata": {},
     "output_type": "execute_result"
    }
   ],
   "source": [
    "mynode.url"
   ]
  },
  {
   "cell_type": "code",
   "execution_count": 14,
   "id": "8f301335-8687-405c-a628-9c4533b9fc8e",
   "metadata": {},
   "outputs": [
    {
     "data": {
      "text/plain": [
       "['geoserver',\n",
       " 'flyingpigeon',\n",
       " 'finch',\n",
       " 'raven',\n",
       " 'hummingbird',\n",
       " 'thredds',\n",
       " 'jupyterhub',\n",
       " 'weaver']"
      ]
     },
     "execution_count": 14,
     "metadata": {},
     "output_type": "execute_result"
    }
   ],
   "source": [
    "mynode.services"
   ]
  },
  {
   "cell_type": "code",
   "execution_count": 15,
   "id": "53ea9770-31fc-4d83-a3b8-5ae70fb20a71",
   "metadata": {},
   "outputs": [],
   "source": [
    "w = mynode['weaver']"
   ]
  },
  {
   "cell_type": "code",
   "execution_count": 16,
   "id": "9fde1ed9-57fd-47f1-839e-b7b1fcaf953f",
   "metadata": {},
   "outputs": [
    {
     "data": {
      "text/plain": [
       "https://daccs.cs.toronto.edu/weaver/"
      ]
     },
     "execution_count": 16,
     "metadata": {},
     "output_type": "execute_result"
    }
   ],
   "source": [
    "w"
   ]
  },
  {
   "cell_type": "code",
   "execution_count": 17,
   "id": "be805892-a481-4563-854c-334fb247b5a5",
   "metadata": {},
   "outputs": [
    {
     "data": {
      "text/plain": [
       "'https://daccs.cs.toronto.edu/weaver/'"
      ]
     },
     "execution_count": 17,
     "metadata": {},
     "output_type": "execute_result"
    }
   ],
   "source": [
    "w.service_url"
   ]
  },
  {
   "cell_type": "code",
   "execution_count": 18,
   "id": "a4d8a663-fa4e-4a0d-9ae0-89c96be51e20",
   "metadata": {},
   "outputs": [
    {
     "data": {
      "text/plain": [
       "'https://daccs.cs.toronto.edu/weaver/conformance/'"
      ]
     },
     "execution_count": 18,
     "metadata": {},
     "output_type": "execute_result"
    }
   ],
   "source": [
    "w.conformance"
   ]
  },
  {
   "cell_type": "code",
   "execution_count": 19,
   "id": "2fc98d5a-a3bb-488e-9142-d8ee78bdc63c",
   "metadata": {},
   "outputs": [],
   "source": [
    "g = mynode.geoserver"
   ]
  },
  {
   "cell_type": "code",
   "execution_count": 20,
   "id": "23517051-90c6-4171-be3a-12e9a0313bf8",
   "metadata": {},
   "outputs": [],
   "source": [
    "g.conformance"
   ]
  },
  {
   "cell_type": "code",
   "execution_count": null,
   "id": "d0a8df11-5114-45dd-8524-48e5281f6dcb",
   "metadata": {},
   "outputs": [],
   "source": []
  },
  {
   "cell_type": "code",
   "execution_count": 21,
   "id": "9979bf8a-cb59-4c72-b837-8c827493d186",
   "metadata": {},
   "outputs": [
    {
     "data": {
      "text/plain": [
       "https://daccs.cs.toronto.edu/weaver/"
      ]
     },
     "execution_count": 21,
     "metadata": {},
     "output_type": "execute_result"
    }
   ],
   "source": [
    "d.nodes['UofT'].weaver"
   ]
  },
  {
   "cell_type": "code",
   "execution_count": 22,
   "id": "af0af3d2-3ece-4520-bb99-f61259107c33",
   "metadata": {},
   "outputs": [
    {
     "data": {
      "text/plain": [
       "https://daccs.cs.toronto.edu/weaver/"
      ]
     },
     "execution_count": 22,
     "metadata": {},
     "output_type": "execute_result"
    }
   ],
   "source": [
    "d['UofT'].weaver"
   ]
  },
  {
   "cell_type": "code",
   "execution_count": 23,
   "id": "caedef8f-28a0-42ea-b2f9-8ee1488931ec",
   "metadata": {},
   "outputs": [],
   "source": [
    "u = d['UofT']"
   ]
  },
  {
   "cell_type": "code",
   "execution_count": 24,
   "id": "5d8041d5-c3ff-46ef-bc9e-1ece8b79b43e",
   "metadata": {},
   "outputs": [
    {
     "data": {
      "text/plain": [
       "https://daccs.cs.toronto.edu/weaver/"
      ]
     },
     "execution_count": 24,
     "metadata": {},
     "output_type": "execute_result"
    }
   ],
   "source": [
    "u['weaver']"
   ]
  },
  {
   "cell_type": "code",
   "execution_count": 8,
   "id": "eb7a5dc1-f59e-42ff-9f10-ad8ea9caa1ab",
   "metadata": {},
   "outputs": [
    {
     "data": {
      "text/plain": [
       "False"
      ]
     },
     "execution_count": 8,
     "metadata": {},
     "output_type": "execute_result"
    }
   ],
   "source": [
    "'thredds' in u"
   ]
  },
  {
   "cell_type": "code",
   "execution_count": 9,
   "id": "c203aba6-aaff-457a-aacc-8493294f4334",
   "metadata": {},
   "outputs": [
    {
     "data": {
      "text/plain": [
       "False"
      ]
     },
     "execution_count": 9,
     "metadata": {},
     "output_type": "execute_result"
    }
   ],
   "source": [
    "u.is_online()"
   ]
  },
  {
   "cell_type": "code",
   "execution_count": 15,
   "id": "6ede6d77-3c44-455d-83b3-b4f4a871bba2",
   "metadata": {},
   "outputs": [
    {
     "data": {
      "text/plain": [
       "datetime.datetime(2023, 5, 4, 17, 9, 7, tzinfo=tzutc())"
      ]
     },
     "execution_count": 15,
     "metadata": {},
     "output_type": "execute_result"
    }
   ],
   "source": [
    "u.last_updated"
   ]
  },
  {
   "cell_type": "code",
   "execution_count": null,
   "id": "67a28484-c471-4068-a40a-9ca029ad5cbf",
   "metadata": {},
   "outputs": [],
   "source": []
  }
 ],
 "metadata": {
  "kernelspec": {
   "display_name": "conda_daccs_client",
   "language": "python",
   "name": "conda_daccs_client"
  },
  "language_info": {
   "codemirror_mode": {
    "name": "ipython",
    "version": 3
   },
   "file_extension": ".py",
   "mimetype": "text/x-python",
   "name": "python",
   "nbconvert_exporter": "python",
   "pygments_lexer": "ipython3",
   "version": "3.11.4"
  }
 },
 "nbformat": 4,
 "nbformat_minor": 5
}
